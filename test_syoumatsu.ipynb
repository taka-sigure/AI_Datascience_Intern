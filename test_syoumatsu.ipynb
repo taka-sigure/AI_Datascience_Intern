{
  "nbformat": 4,
  "nbformat_minor": 0,
  "metadata": {
    "colab": {
      "name": "test_syoumatsu.ipynb",
      "provenance": [],
      "toc_visible": true,
      "mount_file_id": "13zMb-iL1kgOOiY_HEArpS-765pAktdc2",
      "authorship_tag": "ABX9TyMqxqS+ff+DKRTUQgmv+Df6",
      "include_colab_link": true
    },
    "kernelspec": {
      "name": "python3",
      "display_name": "Python 3"
    },
    "language_info": {
      "name": "python"
    },
    "gpuClass": "standard"
  },
  "cells": [
    {
      "cell_type": "markdown",
      "metadata": {
        "id": "view-in-github",
        "colab_type": "text"
      },
      "source": [
        "<a href=\"https://colab.research.google.com/github/taka-sigure/AI_Datascience_Intern/blob/main/test_syoumatsu.ipynb\" target=\"_parent\"><img src=\"https://colab.research.google.com/assets/colab-badge.svg\" alt=\"Open In Colab\"/></a>"
      ]
    },
    {
      "cell_type": "code",
      "execution_count": null,
      "metadata": {
        "id": "T9kedLdcrfbt"
      },
      "outputs": [],
      "source": [
        "import numpy as np\n",
        "import pandas as pd\n",
        "import matplotlib.pyplot as plt\n",
        "import seaborn as sns\n",
        "from sklearn.model_selection import train_test_split\n",
        "import pandas_profiling as pdp\n",
        "from sklearn.metrics import accuracy_score, confusion_matrix"
      ]
    },
    {
      "cell_type": "code",
      "source": [
        "df_train = pd.read_csv('/content/drive/MyDrive/Colab Notebooks/cancer_train.csv')\n",
        "df_test = pd.read_csv('/content/drive/MyDrive/Colab Notebooks/cancer_test.csv')"
      ],
      "metadata": {
        "id": "w0CmmizksDoi"
      },
      "execution_count": null,
      "outputs": []
    },
    {
      "cell_type": "code",
      "source": [
        "df_train.info()"
      ],
      "metadata": {
        "colab": {
          "base_uri": "https://localhost:8080/"
        },
        "id": "B6xsdzeisYy5",
        "outputId": "2d6c9afb-b662-4f0f-baf2-a6621d09288b"
      },
      "execution_count": null,
      "outputs": [
        {
          "output_type": "stream",
          "name": "stdout",
          "text": [
            "<class 'pandas.core.frame.DataFrame'>\n",
            "RangeIndex: 199 entries, 0 to 198\n",
            "Data columns (total 31 columns):\n",
            " #   Column                   Non-Null Count  Dtype  \n",
            "---  ------                   --------------  -----  \n",
            " 0   diagnosis                199 non-null    object \n",
            " 1   radius_mean              199 non-null    float64\n",
            " 2   texture_mean             199 non-null    float64\n",
            " 3   perimeter_mean           199 non-null    float64\n",
            " 4   area_mean                199 non-null    float64\n",
            " 5   smoothness_mean          199 non-null    float64\n",
            " 6   compactness_mean         199 non-null    float64\n",
            " 7   concavity_mean           199 non-null    float64\n",
            " 8   concave points_mean      199 non-null    float64\n",
            " 9   symmetry_mean            199 non-null    float64\n",
            " 10  fractal_dimension_mean   199 non-null    float64\n",
            " 11  radius_se                199 non-null    float64\n",
            " 12  texture_se               199 non-null    float64\n",
            " 13  perimeter_se             199 non-null    float64\n",
            " 14  area_se                  199 non-null    float64\n",
            " 15  smoothness_se            199 non-null    float64\n",
            " 16  compactness_se           199 non-null    float64\n",
            " 17  concavity_se             199 non-null    float64\n",
            " 18  concave points_se        199 non-null    float64\n",
            " 19  symmetry_se              199 non-null    float64\n",
            " 20  fractal_dimension_se     199 non-null    float64\n",
            " 21  radius_worst             199 non-null    float64\n",
            " 22  texture_worst            199 non-null    float64\n",
            " 23  perimeter_worst          199 non-null    float64\n",
            " 24  area_worst               199 non-null    float64\n",
            " 25  smoothness_worst         199 non-null    float64\n",
            " 26  compactness_worst        199 non-null    float64\n",
            " 27  concavity_worst          199 non-null    float64\n",
            " 28  concave points_worst     199 non-null    float64\n",
            " 29  symmetry_worst           199 non-null    float64\n",
            " 30  fractal_dimension_worst  199 non-null    float64\n",
            "dtypes: float64(30), object(1)\n",
            "memory usage: 48.3+ KB\n"
          ]
        }
      ]
    },
    {
      "cell_type": "code",
      "source": [
        "diagnosis_mapping = {'M':1, 'B':0}\n",
        "df_train['diagnosis'] = df_train['diagnosis'].map(diagnosis_mapping)"
      ],
      "metadata": {
        "id": "P9g3Op1QsbJs"
      },
      "execution_count": null,
      "outputs": []
    },
    {
      "cell_type": "code",
      "source": [
        "x = df_train.drop('diagnosis', axis=1).values\n",
        "t = df_train['diagnosis'].values\n",
        "x_test =df_test.values"
      ],
      "metadata": {
        "id": "u7MWMW-XuJiN"
      },
      "execution_count": null,
      "outputs": []
    },
    {
      "cell_type": "code",
      "source": [
        "from sklearn.preprocessing import StandardScaler\n",
        "std_scaler = StandardScaler()"
      ],
      "metadata": {
        "id": "1ysZS8S7u6Ap"
      },
      "execution_count": null,
      "outputs": []
    },
    {
      "cell_type": "code",
      "source": [
        "std_scaler.fit(x)"
      ],
      "metadata": {
        "colab": {
          "base_uri": "https://localhost:8080/"
        },
        "id": "RNwbpbMNvVGb",
        "outputId": "6f4ae09c-88df-4b04-e9a1-b373de777383"
      },
      "execution_count": null,
      "outputs": [
        {
          "output_type": "execute_result",
          "data": {
            "text/plain": [
              "StandardScaler()"
            ]
          },
          "metadata": {},
          "execution_count": 7
        }
      ]
    },
    {
      "cell_type": "code",
      "source": [
        "# 標準化\n",
        "x_train_std = std_scaler.transform(x)"
      ],
      "metadata": {
        "id": "BdG7Qu4uu7MM"
      },
      "execution_count": null,
      "outputs": []
    },
    {
      "cell_type": "code",
      "source": [
        "x_train_std"
      ],
      "metadata": {
        "colab": {
          "base_uri": "https://localhost:8080/"
        },
        "id": "1pgjUIDI_zTF",
        "outputId": "93df9f6e-254a-4357-d253-607a25fb1c0f"
      },
      "execution_count": null,
      "outputs": [
        {
          "output_type": "execute_result",
          "data": {
            "text/plain": [
              "array([[ 1.83548541, -0.39562862,  1.68833996, ...,  1.12857372,\n",
              "        -0.17482226,  0.33365333],\n",
              "       [ 0.29902089, -1.40966441,  0.23149948, ..., -0.493151  ,\n",
              "        -0.60956867, -0.93873321],\n",
              "       [-0.49777019, -0.41564248, -0.43720064, ..., -0.61888057,\n",
              "        -0.49550972,  0.6058821 ],\n",
              "       ...,\n",
              "       [-0.13792905, -0.09319689, -0.10698346, ...,  0.42367898,\n",
              "        -0.18474043,  0.29612508],\n",
              "       [-0.10651435, -1.39632183, -0.16484379, ..., -0.86287062,\n",
              "        -0.05415121, -0.92205398],\n",
              "       [ 0.87305317,  1.10541121,  0.91549125, ...,  1.18926002,\n",
              "         0.75583258,  3.00709472]])"
            ]
          },
          "metadata": {},
          "execution_count": 9
        }
      ]
    },
    {
      "cell_type": "code",
      "source": [
        "# モデルの定義\n",
        "from sklearn.svm import SVC\n",
        "svc_std = SVC()"
      ],
      "metadata": {
        "id": "7NgiOpuRsCoo"
      },
      "execution_count": null,
      "outputs": []
    },
    {
      "cell_type": "code",
      "source": [
        "svc_std.fit(x_train_std, t)"
      ],
      "metadata": {
        "colab": {
          "base_uri": "https://localhost:8080/"
        },
        "id": "PiOyaaJCsYEa",
        "outputId": "f0bbf1bd-4cff-4650-dc67-5fc04245da78"
      },
      "execution_count": null,
      "outputs": [
        {
          "output_type": "execute_result",
          "data": {
            "text/plain": [
              "SVC()"
            ]
          },
          "metadata": {},
          "execution_count": 11
        }
      ]
    },
    {
      "cell_type": "code",
      "source": [
        "print('train score scaling : ', svc_std.score(x_train_std, t))"
      ],
      "metadata": {
        "colab": {
          "base_uri": "https://localhost:8080/"
        },
        "id": "Kpc78nzi495U",
        "outputId": "9a0882ac-2de0-4fce-c505-407020302d93"
      },
      "execution_count": null,
      "outputs": [
        {
          "output_type": "stream",
          "name": "stdout",
          "text": [
            "train score scaling :  0.9798994974874372\n"
          ]
        }
      ]
    },
    {
      "cell_type": "code",
      "source": [
        "np.unique(t, return_counts=True)"
      ],
      "metadata": {
        "colab": {
          "base_uri": "https://localhost:8080/"
        },
        "id": "haszs9mS_GQo",
        "outputId": "27d3c3f8-fb94-4f37-8e7c-fa15521841f7"
      },
      "execution_count": null,
      "outputs": [
        {
          "output_type": "execute_result",
          "data": {
            "text/plain": [
              "(array([0, 1]), array([125,  74]))"
            ]
          },
          "metadata": {},
          "execution_count": 13
        }
      ]
    },
    {
      "cell_type": "code",
      "source": [
        "std_scaler.fit(x_test)\n",
        "x_test_std = std_scaler.transform(x_test)\n",
        "x_test_std"
      ],
      "metadata": {
        "colab": {
          "base_uri": "https://localhost:8080/"
        },
        "id": "skEcTLju_LnP",
        "outputId": "348b3091-3c12-4dbb-fd57-4147e0cea859"
      },
      "execution_count": null,
      "outputs": [
        {
          "output_type": "execute_result",
          "data": {
            "text/plain": [
              "array([[-0.76683516,  0.47971832, -0.7742543 , ..., -0.43429692,\n",
              "        -0.16647855,  0.2051906 ],\n",
              "       [-1.77890253,  1.46034556, -1.76168716, ..., -1.6208093 ,\n",
              "         0.20711647,  0.76897997],\n",
              "       [-1.17715547,  0.04852053, -1.11804215, ..., -0.22345375,\n",
              "        -0.50418235,  0.03085428],\n",
              "       ...,\n",
              "       [ 0.77466873,  0.06243013,  0.67344318, ..., -0.41165027,\n",
              "        -0.65916719, -1.25270957],\n",
              "       [-0.99946211,  0.23166368, -0.92901928, ..., -0.74131667,\n",
              "        -0.89409157,  0.30408313],\n",
              "       [-0.71918867,  1.0986958 , -0.6920354 , ..., -0.23721374,\n",
              "        -1.3362062 ,  0.15421507]])"
            ]
          },
          "metadata": {},
          "execution_count": 14
        }
      ]
    },
    {
      "cell_type": "code",
      "source": [
        "y = svc_std.predict(x_test_std)\n",
        "y"
      ],
      "metadata": {
        "colab": {
          "base_uri": "https://localhost:8080/"
        },
        "id": "D0v2nNQPwKUB",
        "outputId": "1011ab94-f337-41e4-df96-1385a5ad4726"
      },
      "execution_count": null,
      "outputs": [
        {
          "output_type": "execute_result",
          "data": {
            "text/plain": [
              "array([0, 0, 0, 0, 1, 1, 1, 0, 1, 1, 0, 1, 0, 0, 0, 1, 1, 1, 0, 1, 0, 1,\n",
              "       0, 1, 0, 1, 0, 1, 0, 0, 0, 0, 1, 0, 0, 0, 1, 0, 0, 0, 0, 1, 0, 0,\n",
              "       0, 0, 1, 0, 0, 0, 0, 0, 0, 1, 0, 0, 0, 0, 1, 0, 0, 0, 0, 1, 0, 0,\n",
              "       0, 1, 0, 0, 1, 0, 0, 1, 0, 0, 0, 1, 0, 0, 0, 1, 0, 1, 0, 0, 0, 0,\n",
              "       0, 0, 1, 0, 1, 1, 0, 0, 0, 1, 0, 0, 0, 1, 1, 1, 0, 0, 0, 0, 0, 0,\n",
              "       0, 0, 1, 0, 0, 1, 1, 1, 0, 0, 0, 0, 1, 1, 0, 0, 0, 1, 0, 0, 0, 1,\n",
              "       1, 1, 0, 0, 0, 0, 0, 0, 0, 0, 0, 1, 1, 0, 0, 1, 1, 0, 1, 0, 1, 1,\n",
              "       0, 0, 0, 1, 0, 0, 1, 0, 1, 1, 0, 0, 1, 0, 1, 0, 0, 0, 0, 0, 0, 1,\n",
              "       1, 1, 1, 1, 0, 1, 1, 1, 0, 0, 1, 0, 0, 1, 1, 0, 1, 0, 0, 0, 0, 0,\n",
              "       0])"
            ]
          },
          "metadata": {},
          "execution_count": 15
        }
      ]
    },
    {
      "cell_type": "code",
      "source": [
        " pd.Series(y, name='pred').to_csv('submission.csv', index=None, line_terminator='\\n')"
      ],
      "metadata": {
        "id": "OCw7rsvPvrpw"
      },
      "execution_count": null,
      "outputs": []
    }
  ]
}